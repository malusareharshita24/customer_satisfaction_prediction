{
 "cells": [
  {
   "cell_type": "markdown",
   "id": "7c6142ec",
   "metadata": {},
   "source": [
    "# Customer Satisfaction Prediction\n",
    "\n",
    "Predicting customer satisfaction using support ticket data."
   ]
  },
  {
   "cell_type": "code",
   "execution_count": null,
   "id": "a425a88f",
   "metadata": {},
   "outputs": [],
   "source": [
    "import pandas as pd\n",
    "import matplotlib.pyplot as plt\n",
    "import seaborn as sns\n",
    "\n",
    "# Load dataset\n",
    "df = pd.read_csv('../data/customer_support_tickets.csv')\n",
    "df.head()\n"
   ]
  },
  {
   "cell_type": "code",
   "execution_count": null,
   "id": "3a7d8888",
   "metadata": {},
   "outputs": [],
   "source": [
    "df.info()\n",
    "df.describe()\n",
    "df.isnull().sum()\n"
   ]
  },
  {
   "cell_type": "code",
   "execution_count": null,
   "id": "00ebc8a4",
   "metadata": {},
   "outputs": [],
   "source": [
    "df_cleaned = df.drop(columns=['Customer Name', 'Customer Email', 'Ticket Description', 'Resolution'])\n",
    "\n",
    "df_cleaned['Date of Purchase'] = pd.to_datetime(df_cleaned['Date of Purchase'], errors='coerce')\n",
    "df_cleaned['First Response Time'] = pd.to_datetime(df_cleaned['First Response Time'], errors='coerce')\n",
    "df_cleaned['Time to Resolution'] = pd.to_datetime(df_cleaned['Time to Resolution'], errors='coerce')\n"
   ]
  },
  {
   "cell_type": "code",
   "execution_count": null,
   "id": "97769183",
   "metadata": {},
   "outputs": [],
   "source": [
    "sns.countplot(data=df_cleaned, x='Customer Satisfaction Rating')\n",
    "plt.title(\"Customer Satisfaction Rating Distribution\")\n",
    "plt.show()\n",
    "\n",
    "avg_satisfaction = df_cleaned.groupby('Product Purchased')['Customer Satisfaction Rating'].mean().sort_values(ascending=False)\n",
    "avg_satisfaction.plot(kind='bar', figsize=(10, 5), title='Average Satisfaction by Product')\n",
    "plt.ylabel(\"Avg Rating\")\n",
    "plt.show()\n"
   ]
  },
  {
   "cell_type": "code",
   "execution_count": null,
   "id": "ccad714b",
   "metadata": {},
   "outputs": [],
   "source": [
    "df_cleaned['response_hours'] = (df_cleaned['Time to Resolution'] - df_cleaned['First Response Time']).dt.total_seconds() / 3600\n",
    "\n",
    "df_model = df_cleaned.dropna(subset=['Customer Satisfaction Rating'])\n"
   ]
  },
  {
   "cell_type": "code",
   "execution_count": null,
   "id": "4ebf5c70",
   "metadata": {},
   "outputs": [],
   "source": [
    "from sklearn.model_selection import train_test_split\n",
    "from sklearn.ensemble import RandomForestClassifier\n",
    "from sklearn.metrics import classification_report\n",
    "\n",
    "df_model['satisfaction_level'] = df_model['Customer Satisfaction Rating'].apply(lambda x: 'low' if x <= 2 else 'high')\n",
    "\n",
    "features = ['Customer Age', 'response_hours']\n",
    "X = df_model[features].fillna(0)\n",
    "y = df_model['satisfaction_level']\n",
    "\n",
    "X_train, X_test, y_train, y_test = train_test_split(X, y, test_size=0.2, random_state=42)\n",
    "\n",
    "model = RandomForestClassifier()\n",
    "model.fit(X_train, y_train)\n",
    "\n",
    "y_pred = model.predict(X_test)\n",
    "print(classification_report(y_test, y_pred))\n"
   ]
  },
  {
   "cell_type": "markdown",
   "id": "bbae7568",
   "metadata": {},
   "source": [
    "## Conclusion & Next Steps\n",
    "\n",
    "- Response time and age show predictive value for satisfaction.\n",
    "- Text features could be analyzed using NLP.\n",
    "- Consider further model tuning and cross-validation.\n"
   ]
  }
 ],
 "metadata": {},
 "nbformat": 4,
 "nbformat_minor": 5
}